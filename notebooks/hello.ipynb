{
  "nbformat": 4,
  "nbformat_minor": 0,
  "metadata": {
    "colab": {
      "name": "pfe.ipynb",
      "provenance": [],
      "collapsed_sections": [],
      "toc_visible": true
    },
    "kernelspec": {
      "name": "python3",
      "display_name": "Python 3"
    },
    "language_info": {
      "name": "python"
    }
  },
  "cells": [
    {
      "cell_type": "code",
      "metadata": {
        "colab": {
          "base_uri": "https://localhost:8080/"
        },
        "id": "x7Szo4TqxaQ7",
        "outputId": "66636434-ced3-45de-a48c-f92a91eba015"
      },
      "source": [
        "print(\"test pfe zmerrr\")"
      ],
      "execution_count": null,
      "outputs": [
        {
          "output_type": "stream",
          "text": [
            "Drive already mounted at /content/drive; to attempt to forcibly remount, call drive.mount(\"/content/drive\", force_remount=True).\n",
            "1 / 3\n",
            "2 / 3\n",
            "3 / 3\n",
            "dimensions:  (3, 384, 384, 1)  ;  Type des images:  <class 'numpy.ndarray'>\n",
            "1 / 3\n"
          ],
          "name": "stdout"
        },
        {
          "output_type": "execute_result",
          "data": {
            "text/plain": [
              "array([[[[0.32677165],\n",
              "         [0.33245844],\n",
              "         [0.3368329 ],\n",
              "         ...,\n",
              "         [0.        ],\n",
              "         [0.        ],\n",
              "         [0.        ]],\n",
              "\n",
              "        [[0.32764654],\n",
              "         [0.33070866],\n",
              "         [0.33289589],\n",
              "         ...,\n",
              "         [0.        ],\n",
              "         [0.        ],\n",
              "         [0.        ]],\n",
              "\n",
              "        [[0.32939633],\n",
              "         [0.32895888],\n",
              "         [0.33027122],\n",
              "         ...,\n",
              "         [0.        ],\n",
              "         [0.        ],\n",
              "         [0.        ]],\n",
              "\n",
              "        ...,\n",
              "\n",
              "        [[0.31102362],\n",
              "         [0.30446194],\n",
              "         [0.30358705],\n",
              "         ...,\n",
              "         [0.        ],\n",
              "         [0.        ],\n",
              "         [0.        ]],\n",
              "\n",
              "        [[0.30577428],\n",
              "         [0.29790026],\n",
              "         [0.29483815],\n",
              "         ...,\n",
              "         [0.        ],\n",
              "         [0.        ],\n",
              "         [0.        ]],\n",
              "\n",
              "        [[0.30183727],\n",
              "         [0.29352581],\n",
              "         [0.28915136],\n",
              "         ...,\n",
              "         [0.        ],\n",
              "         [0.        ],\n",
              "         [0.        ]]]])"
            ]
          },
          "metadata": {
            "tags": []
          },
          "execution_count": 3
        }
      ]
    },
    {
      "cell_type": "markdown",
      "metadata": {
        "id": "vrfug3IY59f-"
      },
      "source": [
        "# Nouvelle section"
      ]
    }
  ]
}